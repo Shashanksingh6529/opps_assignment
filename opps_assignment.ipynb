{
 "cells": [
  {
   "cell_type": "markdown",
   "id": "43ed0aab-ab59-4a34-a115-263d9d920d78",
   "metadata": {},
   "source": [
    "Q1. Which function is used to open a file? What are the different modes of opening a file? Explain each mode of file opening."
   ]
  },
  {
   "cell_type": "code",
   "execution_count": 1,
   "id": "d1dccb7d-7ba9-489b-8a61-c6f5c5333778",
   "metadata": {},
   "outputs": [
    {
     "data": {
      "text/plain": [
       "\"'a+': This mode opens the file for reading and appending. The file pointer is at the end of the file if the file exists. The file opens in the append mode. If the file does not exist, it creates a new file for reading and writing.\""
      ]
     },
     "execution_count": 1,
     "metadata": {},
     "output_type": "execute_result"
    }
   ],
   "source": [
    "\"'r': This mode opens the file for reading only. The file pointer is placed at the beginning of the file. If the file does not exist, it raises an error.\"\n",
    "\"'w': This mode opens the file for writing only. It truncates the file to zero length if it exists or creates a new file for writing.\"\n",
    "\"'a': This mode opens the file for appending. The file pointer is at the end of the file if the file exists. That is, the file is in the append mode. If the file does not exist, it creates a new file for writing.\"\n",
    "\"'r+': This mode opens the file for both reading and writing. The file pointer is placed at the beginning of the file.\"\n",
    "\"'w+': This mode opens the file for both writing and reading. It truncates the file to zero length if it exists or creates a new file for reading and writing.\"\n",
    "\"'a+': This mode opens the file for reading and appending. The file pointer is at the end of the file if the file exists. The file opens in the append mode. If the file does not exist, it creates a new file for reading and writing.\""
   ]
  },
  {
   "cell_type": "markdown",
   "id": "a317ed8b-0fee-4048-9fda-9a7a5d39013b",
   "metadata": {},
   "source": [
    "Q2. Why close() function is used? Why is it important to close a file?"
   ]
  },
  {
   "cell_type": "code",
   "execution_count": 2,
   "id": "1d898c6b-753c-4ff6-bf45-ea0ff8450e78",
   "metadata": {},
   "outputs": [
    {
     "data": {
      "text/plain": [
       "'Allows other programs or processes to access the file'"
      ]
     },
     "execution_count": 2,
     "metadata": {},
     "output_type": "execute_result"
    }
   ],
   "source": [
    "\"The close() function is used to close an opened file. It is important to close a file because it:\"\n",
    "\n",
    "\"Releases the resources associated with the file, such as file descriptors, preventing memory leaks.\"\n",
    "\"Ensures that all the data is written to the file before closing, preventing data loss or corruption.\"\n",
    "\"Allows other programs or processes to access the file\""
   ]
  },
  {
   "cell_type": "markdown",
   "id": "f4d03a08-b742-43bd-9ff7-9d04b844675b",
   "metadata": {},
   "source": [
    "Q3. Write a Python program to create a text file. Write ‘I want to become a Data Scientist’ in that file. Then close the file. Open this file and read the content of the file"
   ]
  },
  {
   "cell_type": "code",
   "execution_count": 3,
   "id": "9acb3f55-ecfd-4d7c-9852-87710821eed9",
   "metadata": {},
   "outputs": [
    {
     "name": "stdout",
     "output_type": "stream",
     "text": [
      "I want to become a Data Scientist\n"
     ]
    }
   ],
   "source": [
    "# Creating a text file and writing content to it\n",
    "with open('sample.txt', 'w') as file:\n",
    "    file.write('I want to become a Data Scientist')\n",
    "\n",
    "# Reading the content of the file\n",
    "with open('sample.txt', 'r') as file:\n",
    "    content = file.read()\n",
    "    print(content)"
   ]
  },
  {
   "cell_type": "markdown",
   "id": "7bc95fc2-8893-4d68-a9e3-232b8e8b9a9c",
   "metadata": {},
   "source": [
    "Q4. Explain the following with Python code: read(), readline() and readlines()."
   ]
  },
  {
   "cell_type": "code",
   "execution_count": 5,
   "id": "b2c44254-fd9b-441d-99c8-ee0f5cd9965e",
   "metadata": {},
   "outputs": [
    {
     "name": "stdout",
     "output_type": "stream",
     "text": [
      "I want to become a Data Scientist\n",
      "I want to become a Data Scientist\n",
      "['I want to become a Data Scientist']\n"
     ]
    }
   ],
   "source": [
    "\"read(): Reads the entire content of the file as a single string\"\n",
    "with open('sample.txt', 'r') as file:\n",
    "    content = file.read()\n",
    "    print(content)\n",
    "\n",
    "\"readline(): Reads a single line from the file\"   \n",
    "\n",
    "with open('sample.txt', 'r') as file:\n",
    "    line = file.readline()\n",
    "    print(line)\n",
    "    \n",
    "\"readlines(): Reads all the lines from the file and returns them as a list of strings.\"\n",
    "\n",
    "with open('sample.txt', 'r') as file:\n",
    "    lines = file.readlines()\n",
    "    print(lines)"
   ]
  },
  {
   "cell_type": "markdown",
   "id": "36c7fe3d-ad59-4d1d-a523-30b9c608a32a",
   "metadata": {},
   "source": [
    "Q5. Explain why with statement is used with open(). What is the advantage of using with statement and open() together?"
   ]
  },
  {
   "cell_type": "code",
   "execution_count": 6,
   "id": "f0ee27a5-b296-4755-9c75-1c86081176a2",
   "metadata": {},
   "outputs": [
    {
     "data": {
      "text/plain": [
       "'The with statement is used with open() to ensure that the file is properly closed after its suite finishes, even if an exception is raised during the execution of the code. The advantage of using with statement and open() together is that it automatically closes the file when it is no longer needed, simplifying the code and avoiding potential issues such as resource leaks.'"
      ]
     },
     "execution_count": 6,
     "metadata": {},
     "output_type": "execute_result"
    }
   ],
   "source": [
    "'The with statement is used with open() to ensure that the file is properly closed after its suite finishes, even if an exception is raised during the execution of the code. The advantage of using with statement and open() together is that it automatically closes the file when it is no longer needed, simplifying the code and avoiding potential issues such as resource leaks.'"
   ]
  },
  {
   "cell_type": "markdown",
   "id": "29371f87-6dcc-4ef5-ba80-c8e568cd06fe",
   "metadata": {},
   "source": [
    "Q6. Explain the write() and writelines() functions. Give a suitable example"
   ]
  },
  {
   "cell_type": "code",
   "execution_count": null,
   "id": "1e5fff16-0549-4e8b-b973-da7b9d6c7387",
   "metadata": {},
   "outputs": [],
   "source": [
    "\n",
    "with open('sample.txt', 'w') as file:\n",
    "    file.write('This is a sample text.')"
   ]
  }
 ],
 "metadata": {
  "kernelspec": {
   "display_name": "Python 3 (ipykernel)",
   "language": "python",
   "name": "python3"
  },
  "language_info": {
   "codemirror_mode": {
    "name": "ipython",
    "version": 3
   },
   "file_extension": ".py",
   "mimetype": "text/x-python",
   "name": "python",
   "nbconvert_exporter": "python",
   "pygments_lexer": "ipython3",
   "version": "3.10.8"
  }
 },
 "nbformat": 4,
 "nbformat_minor": 5
}
